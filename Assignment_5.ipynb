{
 "cells": [
  {
   "cell_type": "code",
   "execution_count": 2,
   "id": "da1fee8c-b592-4281-abc8-d8fe055f1a36",
   "metadata": {},
   "outputs": [
    {
     "name": "stdout",
     "output_type": "stream",
     "text": [
      "1\n",
      "2\n",
      "3\n",
      "4\n",
      "5\n",
      "6\n",
      "7\n",
      "8\n",
      "9\n",
      "10\n"
     ]
    }
   ],
   "source": [
    "for value in range(1,11):\n",
    "    print(value)"
   ]
  },
  {
   "cell_type": "code",
   "execution_count": 3,
   "id": "39551a14-e385-4d0e-b356-5e06960f37b3",
   "metadata": {},
   "outputs": [
    {
     "name": "stdout",
     "output_type": "stream",
     "text": [
      "20\n",
      "19\n",
      "18\n",
      "17\n",
      "16\n",
      "15\n",
      "14\n",
      "13\n",
      "12\n",
      "11\n",
      "10\n",
      "9\n",
      "8\n",
      "7\n",
      "6\n",
      "5\n",
      "4\n",
      "3\n",
      "2\n",
      "1\n"
     ]
    }
   ],
   "source": [
    "number = 20\n",
    "flag = True\n",
    "\n",
    "while flag:\n",
    "    print(number)\n",
    "    number -= 1\n",
    "    if(number == 0):\n",
    "        break"
   ]
  },
  {
   "cell_type": "code",
   "execution_count": 5,
   "id": "0c777b87-cac1-4abc-be4e-040b81db5bcd",
   "metadata": {},
   "outputs": [
    {
     "name": "stdout",
     "output_type": "stream",
     "text": [
      "2\n",
      "4\n",
      "6\n",
      "8\n",
      "10\n"
     ]
    }
   ],
   "source": [
    "for number in range(1,11):\n",
    "    if(number % 2 == 0):\n",
    "        print(number)"
   ]
  },
  {
   "cell_type": "code",
   "execution_count": 6,
   "id": "a069d63b-3467-41fc-85a7-4df195ae7272",
   "metadata": {},
   "outputs": [
    {
     "name": "stdin",
     "output_type": "stream",
     "text": [
      "Enter a number:  7\n"
     ]
    },
    {
     "name": "stdout",
     "output_type": "stream",
     "text": [
      "1\n",
      "2\n",
      "3\n",
      "4\n",
      "5\n",
      "6\n",
      "7\n"
     ]
    }
   ],
   "source": [
    "n = int(input(\"Enter a number: \"))\n",
    "\n",
    "for number in range(1, n+1):\n",
    "    print(number)"
   ]
  },
  {
   "cell_type": "code",
   "execution_count": 7,
   "id": "36736d68-3d2e-4607-be7d-caec90114cf6",
   "metadata": {},
   "outputs": [
    {
     "name": "stdin",
     "output_type": "stream",
     "text": [
      "Enter a number:  7\n"
     ]
    },
    {
     "name": "stdout",
     "output_type": "stream",
     "text": [
      "1\n",
      "3\n",
      "5\n",
      "7\n"
     ]
    }
   ],
   "source": [
    "n = int(input(\"Enter a number: \"))\n",
    "\n",
    "for number in range(1, n+1):\n",
    "    if(number % 2 != 0):\n",
    "        print(number)"
   ]
  },
  {
   "cell_type": "code",
   "execution_count": 8,
   "id": "c53c6d22-7e1b-45ca-9071-d0512082bf35",
   "metadata": {},
   "outputs": [
    {
     "name": "stdout",
     "output_type": "stream",
     "text": [
      "Happy Birthday!\n",
      "Happy Birthday!\n",
      "Happy Birthday!\n",
      "Happy Birthday!\n",
      "Happy Birthday!\n"
     ]
    }
   ],
   "source": [
    "String = 'Happy Birthday!'\n",
    "\n",
    "for i in range(5):\n",
    "    print(String)"
   ]
  },
  {
   "cell_type": "code",
   "execution_count": 11,
   "id": "5c925cb2-b8b3-4066-aa60-73d47be06bff",
   "metadata": {},
   "outputs": [
    {
     "name": "stdin",
     "output_type": "stream",
     "text": [
      "Enter a number:  6\n"
     ]
    },
    {
     "name": "stdout",
     "output_type": "stream",
     "text": [
      "1 4 9 16 25 36 "
     ]
    }
   ],
   "source": [
    "n = int(input(\"Enter a number: \"))\n",
    "\n",
    "for number in range(1, n+1):\n",
    "    print(number ** 2, end = \" \")"
   ]
  },
  {
   "cell_type": "code",
   "execution_count": 13,
   "id": "d1fa4b5d-a5ea-4275-97b6-124c76cb5586",
   "metadata": {},
   "outputs": [
    {
     "name": "stdin",
     "output_type": "stream",
     "text": [
      "Enter a number:  5\n"
     ]
    },
    {
     "name": "stdout",
     "output_type": "stream",
     "text": [
      "5 x 1 = 5\n",
      "5 x 2 = 10\n",
      "5 x 3 = 15\n",
      "5 x 4 = 20\n",
      "5 x 5 = 25\n",
      "5 x 6 = 30\n",
      "5 x 7 = 35\n",
      "5 x 8 = 40\n",
      "5 x 9 = 45\n",
      "5 x 10 = 50\n"
     ]
    }
   ],
   "source": [
    "n = int(input(\"Enter a number: \"))\n",
    "\n",
    "for value in range(1, 11):\n",
    "    print(f\"{n} x {value} = {value * n}\")"
   ]
  },
  {
   "cell_type": "code",
   "execution_count": 15,
   "id": "bd39379c-53f2-49ad-b1b0-956405cdf73b",
   "metadata": {},
   "outputs": [
    {
     "name": "stdout",
     "output_type": "stream",
     "text": [
      "3 7 11 15 19 23 27 31 "
     ]
    }
   ],
   "source": [
    "initialValue = 3\n",
    "\n",
    "for i in range(8):\n",
    "    print(initialValue, end = \" \")\n",
    "    initialValue += 4"
   ]
  },
  {
   "cell_type": "code",
   "execution_count": 16,
   "id": "af95132c-14b8-4588-80c3-9a48128b1f51",
   "metadata": {},
   "outputs": [
    {
     "name": "stdout",
     "output_type": "stream",
     "text": [
      "2 6 18 54 162 486 "
     ]
    }
   ],
   "source": [
    "initialValue = 2\n",
    "\n",
    "for i in range(6):\n",
    "    print(initialValue, end = \" \")\n",
    "    initialValue *= 3"
   ]
  },
  {
   "cell_type": "code",
   "execution_count": 22,
   "id": "912f1365-6dc9-47e1-a6bc-fd3a7aa2fca2",
   "metadata": {},
   "outputs": [
    {
     "name": "stdin",
     "output_type": "stream",
     "text": [
      "Enter a positive integer:  -2\n"
     ]
    },
    {
     "name": "stdout",
     "output_type": "stream",
     "text": [
      "Number should be positive integer\n"
     ]
    }
   ],
   "source": [
    "number = int(input(\"Enter a positive integer: \"))\n",
    "sum = 0\n",
    "\n",
    "if(number > 0):\n",
    "    for i in range(1, number+1):\n",
    "        sum += i\n",
    "\n",
    "    print(sum)\n",
    "else:\n",
    "    print(\"Number should be positive integer\")"
   ]
  },
  {
   "cell_type": "code",
   "execution_count": 26,
   "id": "de735945-1899-4020-8c35-b57b687aafd4",
   "metadata": {},
   "outputs": [
    {
     "name": "stdin",
     "output_type": "stream",
     "text": [
      "Enter a positive integer:  5\n"
     ]
    },
    {
     "name": "stdout",
     "output_type": "stream",
     "text": [
      " 2.28\n"
     ]
    }
   ],
   "source": [
    "number = int(input(\"Enter a positive integer: \"))\n",
    "sum = 0\n",
    "\n",
    "if(number > 0):\n",
    "    for i in range(1, number+1):\n",
    "        sum += (1 / i)\n",
    "\n",
    "    print(f\"{sum: .2f}\")\n",
    "else:\n",
    "    print(\"Number should be positive integer\")"
   ]
  },
  {
   "cell_type": "code",
   "execution_count": 27,
   "id": "82c26a98-2159-44a6-9212-6727cba2dda4",
   "metadata": {},
   "outputs": [
    {
     "name": "stdin",
     "output_type": "stream",
     "text": [
      "Enter a number 10\n",
      "Enter a number 15\n",
      "Enter a number 35\n",
      "Enter a number 40\n",
      "Enter a number 50\n"
     ]
    },
    {
     "name": "stdout",
     "output_type": "stream",
     "text": [
      "150\n"
     ]
    }
   ],
   "source": [
    "sum = 0\n",
    "\n",
    "for i in range(5):\n",
    "    sum += int(input(\"Enter a number\"))\n",
    "\n",
    "print(sum)"
   ]
  },
  {
   "cell_type": "code",
   "execution_count": 35,
   "id": "7f9e149f-1ce8-415e-b983-0f5079f7f0a1",
   "metadata": {},
   "outputs": [
    {
     "name": "stdin",
     "output_type": "stream",
     "text": [
      "Enter a number:  0\n"
     ]
    },
    {
     "name": "stdout",
     "output_type": "stream",
     "text": [
      "The factorial of 0 is 1\n"
     ]
    }
   ],
   "source": [
    "number = int(input(\"Enter a number: \"))\n",
    "factorial = 1\n",
    "\n",
    "if(number > 0):\n",
    "    for i in range(1, number+1):\n",
    "        factorial *= i\n",
    "\n",
    "    print(factorial)\n",
    "elif(number < 0):\n",
    "    print(\"The factorial does not exist for negative numbers\")\n",
    "else:\n",
    "    print(\"The factorial of 0 is 1\")"
   ]
  },
  {
   "cell_type": "code",
   "execution_count": 51,
   "id": "7da01833-43ef-44aa-ac45-d8ac264db8b9",
   "metadata": {},
   "outputs": [
    {
     "name": "stdin",
     "output_type": "stream",
     "text": [
      "Enter a base number:  4\n",
      "Enter an exponent:  2\n"
     ]
    },
    {
     "name": "stdout",
     "output_type": "stream",
     "text": [
      "4 * 4\n",
      "4\n"
     ]
    }
   ],
   "source": [
    "base = int(input(\"Enter a base number: \"))\n",
    "exponent = int(input(\"Enter an exponent: \"))\n",
    "num = base\n",
    "\n",
    "for number in range(exponent-1):\n",
    "    print(f\"{num} * {base}\")\n",
    "    number *= base\n",
    "\n",
    "print(num)"
   ]
  },
  {
   "cell_type": "code",
   "execution_count": null,
   "id": "0ef27204-3e11-4cff-ae78-0faf073c77b5",
   "metadata": {},
   "outputs": [],
   "source": []
  },
  {
   "cell_type": "code",
   "execution_count": null,
   "id": "4c69a826-a7fa-4fac-bf12-741f6e572baa",
   "metadata": {},
   "outputs": [],
   "source": []
  }
 ],
 "metadata": {
  "kernelspec": {
   "display_name": "Python 3 (ipykernel)",
   "language": "python",
   "name": "python3"
  },
  "language_info": {
   "codemirror_mode": {
    "name": "ipython",
    "version": 3
   },
   "file_extension": ".py",
   "mimetype": "text/x-python",
   "name": "python",
   "nbconvert_exporter": "python",
   "pygments_lexer": "ipython3",
   "version": "3.12.4"
  }
 },
 "nbformat": 4,
 "nbformat_minor": 5
}
