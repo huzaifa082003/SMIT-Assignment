{
 "cells": [
  {
   "cell_type": "code",
   "execution_count": 1,
   "id": "c26d103f-3bce-45b0-8b59-c24f6144c87e",
   "metadata": {},
   "outputs": [
    {
     "name": "stdin",
     "output_type": "stream",
     "text": [
      "Enter a String My name is Huzaifa\n"
     ]
    },
    {
     "name": "stdout",
     "output_type": "stream",
     "text": [
      "The No of Vowels in the String is 7\n"
     ]
    }
   ],
   "source": [
    "String = input(\"Enter a String: \")\n",
    "\n",
    "noVowels = 0\n",
    "for chr in String:\n",
    "    if(chr.lower() == 'a' or chr.lower() == 'e' or chr.lower() == 'i' or chr.lower() == 'o' or chr.lower() == 'u' ):\n",
    "        noVowels += 1\n",
    "print(f\"The No of Vowels in the String is {noVowels}\")"
   ]
  },
  {
   "cell_type": "code",
   "execution_count": 3,
   "id": "ca6c30a7-7df5-4934-8f4b-f288762985c5",
   "metadata": {},
   "outputs": [
    {
     "name": "stdin",
     "output_type": "stream",
     "text": [
      "Enter a String My name is Huzaifa and I am 20 years old\n"
     ]
    },
    {
     "name": "stdout",
     "output_type": "stream",
     "text": [
      "The Number of Uppercase letters are 3\n",
      "The Number of Lowercase letters are 26\n",
      "The Number of Digits are 2\n",
      "The Number of Whtiespaces are 9\n"
     ]
    }
   ],
   "source": [
    "String = input(\"Enter a String: \")\n",
    "\n",
    "upper = 0\n",
    "lower = 0\n",
    "digits = 0\n",
    "whiteSpace = 0\n",
    "\n",
    "for chr in String:\n",
    "    if(chr >= 'A' and chr <= 'Z'):\n",
    "        upper += 1\n",
    "    elif(chr >= 'a' and chr <= 'z'):\n",
    "        lower += 1\n",
    "    elif(chr >= '0' and chr <= '9'):\n",
    "        digits += 1\n",
    "    elif(chr == ' '):\n",
    "        whiteSpace += 1\n",
    "\n",
    "print(f\"The Number of Uppercase letters are {upper}\")\n",
    "print(f\"The Number of Lowercase letters are {lower}\")\n",
    "print(f\"The Number of Digits are {digits}\")\n",
    "print(f\"The Number of Whtiespaces are {whiteSpace}\")"
   ]
  },
  {
   "cell_type": "code",
   "execution_count": 2,
   "id": "f16fc38c-08ac-4aa6-b4e6-265c027d3f51",
   "metadata": {},
   "outputs": [
    {
     "name": "stdin",
     "output_type": "stream",
     "text": [
      "Enter a String Huzaifa\n"
     ]
    },
    {
     "name": "stdout",
     "output_type": "stream",
     "text": [
      "The new String is: auzaifaH\n"
     ]
    }
   ],
   "source": [
    "String = input(\"Enter a String\")\n",
    "\n",
    "newString = String[-1] + String[1:] + String[0]\n",
    "print(f\"The new String is: {newString}\")"
   ]
  },
  {
   "cell_type": "code",
   "execution_count": 3,
   "id": "e2d029cf-8165-494b-abfe-3299f07fc448",
   "metadata": {},
   "outputs": [
    {
     "name": "stdin",
     "output_type": "stream",
     "text": [
      "Enter a String Huzaifa\n"
     ]
    },
    {
     "name": "stdout",
     "output_type": "stream",
     "text": [
      "The reverse String is: afiazuH\n"
     ]
    }
   ],
   "source": [
    "String = input(\"Enter a String\")\n",
    "\n",
    "newString = String[::-1]\n",
    "print(f\"The reverse String is: {newString}\")"
   ]
  },
  {
   "cell_type": "code",
   "execution_count": 4,
   "id": "0d5f8149-625e-4817-9019-5f581ba5837c",
   "metadata": {},
   "outputs": [
    {
     "name": "stdin",
     "output_type": "stream",
     "text": [
      "Enter a String examination 2021\n"
     ]
    },
    {
     "name": "stdout",
     "output_type": "stream",
     "text": [
      "The new String is: xamination 2021e\n"
     ]
    }
   ],
   "source": [
    "String = input(\"Enter a String\")\n",
    "\n",
    "newString = String[1:] + String[0]\n",
    "print(f\"The new String is: {newString}\")"
   ]
  },
  {
   "cell_type": "code",
   "execution_count": 16,
   "id": "32e93153-1d5e-4d0a-a25a-98dbd83bc57d",
   "metadata": {},
   "outputs": [
    {
     "name": "stdin",
     "output_type": "stream",
     "text": [
      "Enter your Name:  Dawood Shaikh\n"
     ]
    },
    {
     "name": "stdout",
     "output_type": "stream",
     "text": [
      "D.S"
     ]
    }
   ],
   "source": [
    "Name = input(\"Enter your Name: \")\n",
    "print(Name[0], end = \"\")\n",
    "\n",
    "i = 0\n",
    "while i < len(Name):\n",
    "    if(Name[i] == \" \"):\n",
    "        print(\".\" + Name[i+1], end = \"\")\n",
    "    i += 1"
   ]
  },
  {
   "cell_type": "code",
   "execution_count": 7,
   "id": "1d671528-bc66-45b0-b3ce-27fa7c0f771f",
   "metadata": {},
   "outputs": [
    {
     "name": "stdin",
     "output_type": "stream",
     "text": [
      "Enter a word:  Radar\n"
     ]
    },
    {
     "name": "stdout",
     "output_type": "stream",
     "text": [
      "The word Radar is Palindorme\n"
     ]
    }
   ],
   "source": [
    "Name = input(\"Enter a word: \")\n",
    "\n",
    "i = 0\n",
    "j = -1\n",
    "while i < (len(Name) // 2):\n",
    "    if(Name[i].lower() != Name[j].lower()):\n",
    "        print(\"The word is not Palindrome\")\n",
    "        break\n",
    "    else:\n",
    "        i += 1\n",
    "        j -= 1\n",
    "else:\n",
    "    print(f\"The word {Name} is Palindorme\")"
   ]
  },
  {
   "cell_type": "code",
   "execution_count": 16,
   "id": "ec1f2ff7-7f5a-47cc-a583-ad7bf7ad4e9c",
   "metadata": {},
   "outputs": [
    {
     "name": "stdout",
     "output_type": "stream",
     "text": [
      "SHIFT\n",
      "HIFTS\n",
      "IFTSH\n",
      "FTSHI\n",
      "TSHIF\n",
      "SHIFT\n"
     ]
    }
   ],
   "source": [
    "Word = 'SHIFT'\n",
    "\n",
    "i = 0\n",
    "while i <= len(Word):\n",
    "    if(i != len(Word)):\n",
    "        j, k = i, 0\n",
    "    else:\n",
    "        j, k = 0, 0\n",
    "    while k < len(Word):\n",
    "        print(Word[j], end = \"\")\n",
    "        if(j < len(Word) - 1):\n",
    "            j += 1\n",
    "            k += 1\n",
    "        else:\n",
    "            j = 0\n",
    "            k += 1\n",
    "        \n",
    "    i += 1\n",
    "    print(\"\")\n",
    "            "
   ]
  },
  {
   "cell_type": "code",
   "execution_count": 15,
   "id": "3dbc9c2c-39a7-4e50-aea9-b3dbdb6a7fd1",
   "metadata": {},
   "outputs": [
    {
     "name": "stdin",
     "output_type": "stream",
     "text": [
      "Enter a Password:  123Huz00\n"
     ]
    },
    {
     "name": "stdout",
     "output_type": "stream",
     "text": [
      "Valid Password\n"
     ]
    }
   ],
   "source": [
    "Password = input(\"Enter a Password: \")\n",
    "\n",
    "upperCase = 0\n",
    "lowerCase = 0\n",
    "digits = 0\n",
    "\n",
    "for chr in Password:\n",
    "    if(chr >= 'A' and chr <= 'Z'):\n",
    "        upperCase += 1\n",
    "    elif(chr >= 'a' and chr <= 'z'):\n",
    "        lowerCase += 1\n",
    "    elif(chr >= '0' and chr <= '9'):\n",
    "        digits += 1\n",
    "\n",
    "if(upperCase > 0 and lowerCase > 0 and digits > 0 and len(Password) >= 8):\n",
    "    print(\"Valid Password\")\n",
    "else:\n",
    "    print(\"Invalid Password\")"
   ]
  },
  {
   "cell_type": "code",
   "execution_count": null,
   "id": "770bfec0-43d5-41bc-ad4b-9b96be22f519",
   "metadata": {},
   "outputs": [],
   "source": []
  }
 ],
 "metadata": {
  "kernelspec": {
   "display_name": "Python 3 (ipykernel)",
   "language": "python",
   "name": "python3"
  },
  "language_info": {
   "codemirror_mode": {
    "name": "ipython",
    "version": 3
   },
   "file_extension": ".py",
   "mimetype": "text/x-python",
   "name": "python",
   "nbconvert_exporter": "python",
   "pygments_lexer": "ipython3",
   "version": "3.12.4"
  }
 },
 "nbformat": 4,
 "nbformat_minor": 5
}
