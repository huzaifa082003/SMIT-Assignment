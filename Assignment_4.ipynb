{
 "cells": [
  {
   "cell_type": "code",
   "execution_count": 5,
   "id": "33daaa1d-803c-4e76-a418-6d631d36c438",
   "metadata": {},
   "outputs": [
    {
     "name": "stdin",
     "output_type": "stream",
     "text": [
      "Enter a number of Elements in the list 5\n",
      "Input a number 10\n",
      "Input a number 20\n",
      "Input a number 30\n",
      "Input a number 40\n",
      "Input a number 50\n"
     ]
    },
    {
     "name": "stdout",
     "output_type": "stream",
     "text": [
      "[10, 30, 50]\n"
     ]
    }
   ],
   "source": [
    "noOfElements = int(input(\"Enter a number of Elements in the list\"))\n",
    "lst = []\n",
    "\n",
    "i = 0\n",
    "while i < noOfElements:\n",
    "    lst.append(int(input(\"Input a number\")))\n",
    "    i += 1\n",
    "\n",
    "print(lst[::2])"
   ]
  },
  {
   "cell_type": "code",
   "execution_count": 6,
   "id": "373ac3df-2724-4c30-b690-58839ac2e17c",
   "metadata": {},
   "outputs": [
    {
     "name": "stdin",
     "output_type": "stream",
     "text": [
      "Enter a number of Elements in the list 4\n",
      "Input a number 10\n",
      "Input a number 20\n",
      "Input a number 30\n",
      "Input a number 40\n"
     ]
    },
    {
     "name": "stdout",
     "output_type": "stream",
     "text": [
      "[40, 30, 20, 10]\n"
     ]
    }
   ],
   "source": [
    "noOfElements = int(input(\"Enter a number of Elements in the list\"))\n",
    "lst = []\n",
    "\n",
    "i = 0\n",
    "while i < noOfElements:\n",
    "    lst.append(int(input(\"Input a number\")))\n",
    "    i += 1\n",
    "\n",
    "lst = lst[::-1]\n",
    "print(lst)"
   ]
  },
  {
   "cell_type": "code",
   "execution_count": 8,
   "id": "ef8a088f-6f84-4cff-8ff6-aa469e8f124b",
   "metadata": {},
   "outputs": [
    {
     "name": "stdin",
     "output_type": "stream",
     "text": [
      "Enter a number of Elements in the list 6\n",
      "Input a number 3\n",
      "Input a number 5\n",
      "Input a number 7\n",
      "Input a number -3\n",
      "Input a number 5\n",
      "Input a number 10\n"
     ]
    },
    {
     "name": "stdout",
     "output_type": "stream",
     "text": [
      "The largest number is: 10\n"
     ]
    }
   ],
   "source": [
    "noOfElements = int(input(\"Enter a number of Elements in the list\"))\n",
    "lst = []\n",
    "\n",
    "i = 0\n",
    "while i < noOfElements:\n",
    "    lst.append(int(input(\"Input a number\")))\n",
    "    i += 1\n",
    "\n",
    "largestNumber = lst[0]\n",
    "for num in lst:\n",
    "    if(num > largestNumber):\n",
    "        largestNumber = num\n",
    "\n",
    "print(f\"The largest number is: {largestNumber}\")"
   ]
  },
  {
   "cell_type": "code",
   "execution_count": 29,
   "id": "2aa37ca3-4b74-4aec-a4f4-ac589b347d60",
   "metadata": {},
   "outputs": [
    {
     "name": "stdout",
     "output_type": "stream",
     "text": [
      "[90, 10, 20, 30, 40, 50, 60, 70, 80]\n"
     ]
    }
   ],
   "source": [
    "lst = [10, 20, 30, 40, 50, 60, 70, 80, 90]\n",
    "\n",
    "lst = lst[-1:] + lst\n",
    "lst[-1:] = []\n",
    "print(lst)"
   ]
  },
  {
   "cell_type": "code",
   "execution_count": 25,
   "id": "ef7919cb-5190-41c9-a0ba-d05657f4316f",
   "metadata": {},
   "outputs": [
    {
     "name": "stdin",
     "output_type": "stream",
     "text": [
      "Enter a String:  My name is Huzaifa\n",
      "Enter a word you want to delete from String:  is\n"
     ]
    },
    {
     "name": "stdout",
     "output_type": "stream",
     "text": [
      "My name Huzaifa\n"
     ]
    }
   ],
   "source": [
    "String = input(\"Enter a String: \")\n",
    "word = input(\"Enter a word you want to delete from String: \")\n",
    "\n",
    "flag = False\n",
    "i = 0\n",
    "j = 0\n",
    "while i < len(String):\n",
    "    if(String[i] == word[j]):\n",
    "        i += 1\n",
    "        j += 1\n",
    "        if(j == len(word)):\n",
    "            i = i - len(word)\n",
    "            flag = True\n",
    "            break\n",
    "    else:\n",
    "        j = 0\n",
    "        i += 1\n",
    "\n",
    "if(flag):\n",
    "    String = String[:i] + String[i+len(word)+1:]\n",
    "\n",
    "print(String)"
   ]
  },
  {
   "cell_type": "code",
   "execution_count": 28,
   "id": "b8fe05c5-2701-4ad6-bc45-11020d381e5a",
   "metadata": {},
   "outputs": [
    {
     "name": "stdin",
     "output_type": "stream",
     "text": [
      "Enter a date in the form of mm/dd/yyyy 12/8/2003\n"
     ]
    },
    {
     "name": "stdout",
     "output_type": "stream",
     "text": [
      "December 8, 2003\n"
     ]
    }
   ],
   "source": [
    "lst = ['January', 'February', 'March', 'April', 'May', 'June', 'July', 'August', 'September', 'October', 'November', 'December']\n",
    "Date = input(\"Enter a date in the form of mm/dd/yyyy\")\n",
    "lst2 = Date.split(\"/\")\n",
    "print(lst[int(lst2[0])-1], lst2[1] + \",\", lst2[2])"
   ]
  },
  {
   "cell_type": "code",
   "execution_count": 41,
   "id": "0b8c23f3-97cd-4e53-b792-4768de27facc",
   "metadata": {},
   "outputs": [
    {
     "name": "stdin",
     "output_type": "stream",
     "text": [
      "Enter a string:  my name is huzaifa\n"
     ]
    },
    {
     "name": "stdout",
     "output_type": "stream",
     "text": [
      "My Name Is Huzaifa\n"
     ]
    }
   ],
   "source": [
    "def String(Str):\n",
    "    newString = \"\"\n",
    "    lst = Str.split(\" \")\n",
    "    for element in lst:\n",
    "        i = 0\n",
    "        while i < len(element):\n",
    "            if(i == 0):\n",
    "                newString = newString + element[i].upper()\n",
    "                i +=  1\n",
    "            else:\n",
    "                newString = newString + element[i]\n",
    "                i += 1\n",
    "        newString = newString + ' '\n",
    "    else:\n",
    "        newString = newString[:-1]\n",
    "        print(newString)\n",
    "\n",
    "line = input(\"Enter a string: \")\n",
    "String(line)"
   ]
  },
  {
   "cell_type": "code",
   "execution_count": 5,
   "id": "2f78cc20-3727-452a-bbd0-afc829798210",
   "metadata": {},
   "outputs": [
    {
     "name": "stdin",
     "output_type": "stream",
     "text": [
      "Enter a number of rows 4\n",
      "Enter a number of columns 3\n"
     ]
    },
    {
     "name": "stdout",
     "output_type": "stream",
     "text": [
      "Enter Elements:\n"
     ]
    },
    {
     "name": "stdin",
     "output_type": "stream",
     "text": [
      " 2\n",
      " 5\n",
      " 4\n",
      " 3\n",
      " 6\n",
      " 7\n",
      " 3\n",
      " 2\n",
      " 1\n",
      " 4\n",
      " 6\n",
      " 4\n"
     ]
    },
    {
     "name": "stdout",
     "output_type": "stream",
     "text": [
      "2 5 4 \n",
      "3 6 7 \n",
      "3 2 1 \n",
      "4 6 4 \n",
      "The sum of row 1: 11\n",
      "The sum of row 2: 16\n",
      "The sum of row 3: 6\n",
      "The sum of row 4: 14\n"
     ]
    }
   ],
   "source": [
    "row = int(input(\"Enter a number of rows\"))\n",
    "col = int(input(\"Enter a number of columns\"))\n",
    "\n",
    "print(\"Enter Elements:\")\n",
    "matrix = [[int(input()) for j in range(col)] for i in range(row)]\n",
    "\n",
    "for sublist in matrix:\n",
    "    for number in sublist:\n",
    "        print(f\"{number} \", end = \"\")\n",
    "    print(\"\")\n",
    "\n",
    "row = 1\n",
    "sum = 0\n",
    "for sublist in matrix:\n",
    "    for number in sublist:\n",
    "        sum = sum + number\n",
    "    print(f\"The sum of row {row}: {sum}\")\n",
    "    sum = 0\n",
    "    row += 1"
   ]
  },
  {
   "cell_type": "code",
   "execution_count": 12,
   "id": "fbd3fcca-7321-44cc-bf47-741c17482dbe",
   "metadata": {},
   "outputs": [
    {
     "name": "stdin",
     "output_type": "stream",
     "text": [
      "Enter a number of rows 2\n",
      "Enter a number of columns 2\n"
     ]
    },
    {
     "name": "stdout",
     "output_type": "stream",
     "text": [
      "Enter Elements of first matrix:\n"
     ]
    },
    {
     "name": "stdin",
     "output_type": "stream",
     "text": [
      " 4\n",
      " 3\n",
      " 6\n",
      " 4\n"
     ]
    },
    {
     "name": "stdout",
     "output_type": "stream",
     "text": [
      "Enter Elements of second matrix:\n"
     ]
    },
    {
     "name": "stdin",
     "output_type": "stream",
     "text": [
      " 3\n",
      " 4\n",
      " 6\n",
      " 4\n"
     ]
    },
    {
     "name": "stdout",
     "output_type": "stream",
     "text": [
      "4 3 \n",
      "6 4 \n",
      " +  \n",
      "3 4 \n",
      "6 4 \n",
      "The Sum is: \n",
      "7 7 \n",
      "12 8 \n"
     ]
    }
   ],
   "source": [
    "row = int(input(\"Enter a number of rows\"))\n",
    "col = int(input(\"Enter a number of columns\"))\n",
    "\n",
    "print(\"Enter Elements of first matrix:\")\n",
    "matrix1 = [[int(input()) for j in range(col)] for i in range(row)]\n",
    "\n",
    "print(\"Enter Elements of second matrix:\")\n",
    "matrix2 = [[int(input()) for j in range(col)] for i in range(row)]\n",
    "\n",
    "for sublist in matrix1:\n",
    "    for number in sublist:\n",
    "        print(f\"{number} \", end = \"\")\n",
    "    print(\"\")\n",
    "\n",
    "print(\"+\".center(4))\n",
    "\n",
    "for sublist in matrix2:\n",
    "    for number in sublist:\n",
    "        print(f\"{number} \", end = \"\")\n",
    "    print(\"\")\n",
    "\n",
    "\n",
    "print(\"The Sum is: \")\n",
    "i = 0\n",
    "while i < row:\n",
    "    j = 0\n",
    "    while j < col:\n",
    "        print((matrix1[i][j] + matrix2[i][j]), end = \" \")\n",
    "        j += 1\n",
    "    print(\"\")\n",
    "    i += 1\n",
    "    "
   ]
  },
  {
   "cell_type": "code",
   "execution_count": 29,
   "id": "473c048d-4e97-4b97-88c1-2474c2e9c544",
   "metadata": {},
   "outputs": [
    {
     "name": "stdin",
     "output_type": "stream",
     "text": [
      "Enter a number of rows of Matrix 1:  2\n",
      "Enter a number of columns Matrix 1:  3\n",
      "Enter a number of rows of Matrix 2:  3\n",
      "Enter a number of columns Matrix 2:  2\n"
     ]
    },
    {
     "name": "stdout",
     "output_type": "stream",
     "text": [
      "Enter Elements of first matrix:\n"
     ]
    },
    {
     "name": "stdin",
     "output_type": "stream",
     "text": [
      " 2\n",
      " 3\n",
      " 4\n",
      " 5\n",
      " 6\n",
      " 7\n"
     ]
    },
    {
     "name": "stdout",
     "output_type": "stream",
     "text": [
      "Enter Elements of second matrix:\n"
     ]
    },
    {
     "name": "stdin",
     "output_type": "stream",
     "text": [
      " 7\n",
      " 6\n",
      " 5\n",
      " 4\n",
      " 3\n",
      " 2\n"
     ]
    },
    {
     "name": "stdout",
     "output_type": "stream",
     "text": [
      "\n",
      "****Matrix 1***\n",
      "2 3 4 \n",
      "5 6 7 \n",
      "***************\n",
      "\n",
      "****Matrix 2***\n",
      "7 6 \n",
      "5 4 \n",
      "3 2 \n",
      "***************\n",
      "\n",
      "***Multiplication***\n",
      "41 32 \n",
      "86 68 \n",
      "********************\n"
     ]
    }
   ],
   "source": [
    "row1 = int(input(\"Enter a number of rows of Matrix 1: \"))\n",
    "col1 = int(input(\"Enter a number of columns Matrix 1: \"))\n",
    "\n",
    "row2 = int(input(\"Enter a number of rows of Matrix 2: \"))\n",
    "col2 = int(input(\"Enter a number of columns Matrix 2: \"))\n",
    "\n",
    "if(col1 == row2):\n",
    "    print(\"Enter Elements of first matrix:\")\n",
    "    matrix1 = [[int(input()) for j in range(col1)] for i in range(row1)]\n",
    "\n",
    "    print(\"Enter Elements of second matrix:\")\n",
    "    matrix2 = [[int(input()) for j in range(col2)] for i in range(row2)]\n",
    "\n",
    "    print(\"\")\n",
    "    print(\"Matrix 1\".center(15, \"*\"))\n",
    "    for sublist in matrix1:\n",
    "        for number in sublist:\n",
    "            print(f\"{number} \", end = \"\")\n",
    "        print(\"\")\n",
    "    print(\"*\"*(15))\n",
    "\n",
    "    print(\"\")\n",
    "    print(\"Matrix 2\".center(15, \"*\"))\n",
    "    for sublist in matrix2:\n",
    "        for number in sublist:\n",
    "            print(f\"{number} \", end = \"\")\n",
    "        print(\"\")\n",
    "    print(\"*\"*(15))\n",
    "\n",
    "    print(\"\")\n",
    "    print(\"Multiplication\".center(20, \"*\"))\n",
    "    sum = 0\n",
    "    i = 0\n",
    "    while i < row1:\n",
    "        j = 0\n",
    "        while j < col2:\n",
    "            k = 0\n",
    "            while k < col1:\n",
    "                sum += (matrix1[i][k] * matrix2[k][j])\n",
    "                k += 1\n",
    "            print(sum, end = \" \")\n",
    "            sum = 0\n",
    "            j += 1\n",
    "        print(\"\")\n",
    "        i += 1\n",
    "    print(\"*\"*(20))\n",
    "\n",
    "else:\n",
    "    print(\"Multiplication is not possible\")\n",
    "\n",
    "\n"
   ]
  },
  {
   "cell_type": "code",
   "execution_count": null,
   "id": "81250fa8-9872-4336-a99a-9e7116e8843a",
   "metadata": {},
   "outputs": [],
   "source": []
  }
 ],
 "metadata": {
  "kernelspec": {
   "display_name": "Python 3 (ipykernel)",
   "language": "python",
   "name": "python3"
  },
  "language_info": {
   "codemirror_mode": {
    "name": "ipython",
    "version": 3
   },
   "file_extension": ".py",
   "mimetype": "text/x-python",
   "name": "python",
   "nbconvert_exporter": "python",
   "pygments_lexer": "ipython3",
   "version": "3.12.4"
  }
 },
 "nbformat": 4,
 "nbformat_minor": 5
}
